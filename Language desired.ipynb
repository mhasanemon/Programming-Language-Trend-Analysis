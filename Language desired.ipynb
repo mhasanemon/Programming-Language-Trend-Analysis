{
 "cells": [
  {
   "cell_type": "code",
   "execution_count": 1,
   "metadata": {
    "collapsed": true
   },
   "outputs": [],
   "source": [
    "import numpy as np\n",
    "import pandas as pd\n",
    "import matplotlib.pyplot as plt\n",
    "\n",
    "%matplotlib inline"
   ]
  },
  {
   "cell_type": "code",
   "execution_count": 2,
   "metadata": {},
   "outputs": [
    {
     "name": "stderr",
     "output_type": "stream",
     "text": [
      "C:\\Users\\Emon\\Anaconda3\\lib\\site-packages\\IPython\\core\\interactiveshell.py:2698: DtypeWarning: Columns (9,13,14,15,16,17,18,19,20,21,23,24,25,26,27,28,29,30,31,32,33,34,35,36,37,38,39,40,41,42,43,44,45,46,47,48,49,50,51,52,53,54,55,56,57,58,59,60,61,62,63,64,65,66,67,68,69,70,71,72,73,74) have mixed types. Specify dtype option on import or set low_memory=False.\n",
      "  interactivity=interactivity, compiler=compiler, result=result)\n"
     ]
    }
   ],
   "source": [
    "dataFrame = pd.read_csv('new.csv')"
   ]
  },
  {
   "cell_type": "code",
   "execution_count": 3,
   "metadata": {
    "collapsed": true
   },
   "outputs": [],
   "source": [
    "new_data = dataFrame.dropna(subset=['LanguageDesireNextYear']).head(5000)"
   ]
  },
  {
   "cell_type": "code",
   "execution_count": 5,
   "metadata": {},
   "outputs": [
    {
     "data": {
      "text/plain": [
       "0                              JavaScript;Python;HTML;CSS\n",
       "1                                               Go;Python\n",
       "3        C#;JavaScript;SQL;TypeScript;HTML;CSS;Bash/Shell\n",
       "4                    Assembly;C;C++;Matlab;SQL;Bash/Shell\n",
       "5       C#;Go;Java;JavaScript;Python;SQL;TypeScript;HT...\n",
       "6                         C;Go;JavaScript;Python;HTML;CSS\n",
       "7                            Matlab;SQL;Kotlin;Bash/Shell\n",
       "8                               Erlang;Go;Python;Rust;SQL\n",
       "13                                            Java;Python\n",
       "17                                C#;F#;Haskell;SQL;Ocaml\n",
       "18                                               Python;R\n",
       "20                       C;C++;Go;Python;SQL;Swift;Kotlin\n",
       "21            C;C++;JavaScript;Python;HTML;CSS;Bash/Shell\n",
       "22                         C#;JavaScript;PHP;SQL;HTML;CSS\n",
       "23                                         PHP;Bash/Shell\n",
       "24                           Java;JavaScript;Swift;Kotlin\n",
       "25                                           Python;Scala\n",
       "26                                    JavaScript;HTML;CSS\n",
       "27            C#;Java;JavaScript;Ruby;TypeScript;HTML;CSS\n",
       "29             C#;Java;JavaScript;PHP;TypeScript;HTML;CSS\n",
       "30                              Erlang;Go;JavaScript;Rust\n",
       "31      Go;JavaScript;Python;Rust;Swift;TypeScript;Kot...\n",
       "32      Assembly;C;C++;Java;JavaScript;PHP;Python;SQL;...\n",
       "34      Go;Java;JavaScript;Python;SQL;HTML;CSS;Bash/Shell\n",
       "35                                              Erlang;Go\n",
       "36                         C++;Clojure;F#;JavaScript;HTML\n",
       "37                  C#;JavaScript;SQL;TypeScript;HTML;CSS\n",
       "39                                   C#;Erlang;F#;Haskell\n",
       "40                                  C++;Go;Python;R;Swift\n",
       "41                         C#;JavaScript;PHP;SQL;HTML;CSS\n",
       "                              ...                        \n",
       "6328    C#;JavaScript;Python;Ruby;SQL;TypeScript;HTML;...\n",
       "6330              Java;JavaScript;Python;Swift;TypeScript\n",
       "6331                JavaScript;Python;HTML;CSS;Bash/Shell\n",
       "6332               C#;Java;JavaScript;Python;SQL;HTML;CSS\n",
       "6333                                   Go;Python;Ruby;SQL\n",
       "6334                             C#;Java;JavaScript;Scala\n",
       "6336                     C#;Clojure;F#;Haskell;Python;SQL\n",
       "6337            JavaScript;TypeScript;HTML;CSS;Bash/Shell\n",
       "6338    Go;JavaScript;Perl;Python;SQL;HTML;CSS;Bash/Shell\n",
       "6339    C;Go;JavaScript;Lua;Perl;PHP;Python;SQL;TypeSc...\n",
       "6341    Assembly;Java;JavaScript;Matlab;PHP;Python;SQL...\n",
       "6342                                  JavaScript;HTML;CSS\n",
       "6344                                          Java;Kotlin\n",
       "6345      Haskell;JavaScript;PHP;Rust;TypeScript;HTML;CSS\n",
       "6346                                                 Java\n",
       "6347     C#;Go;Python;R;Scala;SQL;Swift;Kotlin;Bash/Shell\n",
       "6348    C;C++;Go;JavaScript;Perl;PHP;Python;Kotlin;HTM...\n",
       "6349                                        Go;Rust;Ocaml\n",
       "6350                              JavaScript;PHP;HTML;CSS\n",
       "6351                       JavaScript;TypeScript;HTML;CSS\n",
       "6352                  C#;JavaScript;Python;R;SQL;HTML;CSS\n",
       "6353                     C;Java;JavaScript;PHP;Python;SQL\n",
       "6354                                                 Ruby\n",
       "6355         C++;C#;Erlang;JavaScript;TypeScript;HTML;CSS\n",
       "6356                  C#;JavaScript;Python;R;SQL;HTML;CSS\n",
       "6357                         Java;JavaScript;PHP;HTML;CSS\n",
       "6358                   Go;Lua;Python;Ruby;Rust;Bash/Shell\n",
       "6360                         Java;JavaScript;SQL;HTML;CSS\n",
       "6361                                       Assembly;C;C++\n",
       "6362                                           C#;PHP;SQL\n",
       "Name: LanguageDesireNextYear, Length: 5000, dtype: object"
      ]
     },
     "execution_count": 5,
     "metadata": {},
     "output_type": "execute_result"
    }
   ],
   "source": [
    "new_data['LanguageDesireNextYear']"
   ]
  },
  {
   "cell_type": "code",
   "execution_count": null,
   "metadata": {
    "collapsed": true
   },
   "outputs": [],
   "source": []
  },
  {
   "cell_type": "code",
   "execution_count": 11,
   "metadata": {},
   "outputs": [],
   "source": [
    "Python = 0\n",
    "Java = 0\n",
    "Javascript = 0\n",
    "C = 0\n",
    "Cplusplus = 0\n",
    "Php = 0\n",
    "HTML = 0\n",
    "CSS = 0\n",
    "SQL = 0\n",
    "Ruby = 0\n",
    "Swift = 0\n",
    "Csharp = 0\n",
    "\n",
    "Go = 0\n",
    "Matlab = 0\n",
    "TypeScript = 0\n",
    "Perl = 0\n",
    "Kotlin = 0\n",
    "Lua = 0\n",
    "R = 0\n",
    "\n",
    "for lang in new_data['LanguageDesireNextYear']:\n",
    "    if(not type(lang)==float):\n",
    "        if 'Python' in lang:\n",
    "            Python+=1;\n",
    "        if 'Java' in lang:\n",
    "            Java+=1;\n",
    "        if 'JavaScript' in lang:\n",
    "            Javascript+=1;\n",
    "        if 'C' in lang:\n",
    "            C+=1;\n",
    "        if 'PHP' in lang:\n",
    "            Php+=1;\n",
    "        if 'HTML' in lang:\n",
    "            HTML+=1;\n",
    "        if 'CSS' in lang:\n",
    "            CSS+=1;\n",
    "        if 'Ruby' in lang:\n",
    "            Ruby+=1;\n",
    "        if 'Swift' in lang:\n",
    "            Swift+=1;\n",
    "        if 'C++' in lang:\n",
    "            Cplusplus+=1;\n",
    "        if 'C#' in lang:\n",
    "            Csharp+=1;\n",
    "        if 'Go' in lang:\n",
    "            Go+=1;\n",
    "        if 'Matlab' in lang:\n",
    "            Matlab+=1;\n",
    "        if 'TypeScript' in lang:\n",
    "            TypeScript+=1;\n",
    "        if 'Perl' in lang:\n",
    "            Perl+=1;\n",
    "        if 'Kotlin' in lang:\n",
    "            Kotlin+=1;\n",
    "        if 'Lua' in lang:\n",
    "            Lua+=1;\n",
    "        if 'R' in lang:\n",
    "            R+=1;\n",
    "        \n",
    "        "
   ]
  },
  {
   "cell_type": "code",
   "execution_count": 12,
   "metadata": {
    "collapsed": true
   },
   "outputs": [],
   "source": [
    "languages_desired = ['Python','Java','JavaScript','C','Php','HTML','CSS','Ruby','Swift','C++','C#','Go','Matlab','TypeScript','Perl','Kotlin','Lua','R' ]\n",
    "users_no = [Python,Java,Javascript,C,Php,HTML,CSS,Ruby,Swift,Cplusplus,Csharp,Go,Matlab,TypeScript,Perl,Kotlin,Lua,R]"
   ]
  },
  {
   "cell_type": "code",
   "execution_count": 13,
   "metadata": {},
   "outputs": [
    {
     "data": {
      "image/png": "[encoded data removed]",
      "text/plain": [
       "<matplotlib.figure.Figure at 0x1de7c2d0198>"
      ]
     },
     "metadata": {},
     "output_type": "display_data"
    }
   ],
   "source": [
    "plt.figure(figsize=(16,8))\n",
    "\n",
    "plt.bar(languages_desired,users_no,align = 'center')\n",
    "plt.title(\"New languages desired to learn\")\n",
    "plt.xlabel(\"Languages_desired\")\n",
    "plt.ylabel(\"Users\")\n",
    "plt.show()"
   ]
  },
  {
   "cell_type": "code",
   "execution_count": null,
   "metadata": {
    "collapsed": true
   },
   "outputs": [],
   "source": []
  }
 ],
 "metadata": {
  "kernelspec": {
   "display_name": "Python 3",
   "language": "python",
   "name": "python3"
  },
  "language_info": {
   "codemirror_mode": {
    "name": "ipython",
    "version": 3
   },
   "file_extension": ".py",
   "mimetype": "text/x-python",
   "name": "python",
   "nbconvert_exporter": "python",
   "pygments_lexer": "ipython3",
   "version": "3.6.3"
  }
 },
 "nbformat": 4,
 "nbformat_minor": 2
}
