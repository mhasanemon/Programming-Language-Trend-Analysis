{
 "cells": [
  {
   "cell_type": "code",
   "execution_count": 1,
   "metadata": {
    "collapsed": true
   },
   "outputs": [],
   "source": [
    "import numpy as np\n",
    "import pandas as pd\n",
    "import matplotlib.pyplot as plt\n",
    "\n",
    "%matplotlib inline"
   ]
  },
  {
   "cell_type": "code",
   "execution_count": 2,
   "metadata": {},
   "outputs": [
    {
     "name": "stderr",
     "output_type": "stream",
     "text": [
      "C:\\Users\\Emon\\Anaconda3\\lib\\site-packages\\IPython\\core\\interactiveshell.py:2698: DtypeWarning: Columns (9,13,14,15,16,17,18,19,20,21,23,24,25,26,27,28,29,30,31,32,33,34,35,36,37,38,39,40,41,42,43,44,45,46,47,48,49,50,51,52,53,54,55,56,57,58,59,60,61,62,63,64,65,66,67,68,69,70,71,72,73,74) have mixed types. Specify dtype option on import or set low_memory=False.\n",
      "  interactivity=interactivity, compiler=compiler, result=result)\n"
     ]
    }
   ],
   "source": [
    "dataFrame = pd.read_csv('new.csv')"
   ]
  },
  {
   "cell_type": "code",
   "execution_count": 3,
   "metadata": {
    "collapsed": true
   },
   "outputs": [],
   "source": [
    "new_data = dataFrame.dropna(subset=['FrameworkDesireNextYear']).head(5000)"
   ]
  },
  {
   "cell_type": "code",
   "execution_count": 5,
   "metadata": {},
   "outputs": [
    {
     "data": {
      "text/plain": [
       "0                                            Django;React\n",
       "1                                                   React\n",
       "3                                 Angular;.NET Core;React\n",
       "5                                                 Node.js\n",
       "6                                        React;TensorFlow\n",
       "7                                        .NET Core;Django\n",
       "13                                    Hadoop;Spark;Spring\n",
       "17                                              .NET Core\n",
       "18                                                 Django\n",
       "20                             Angular;Node.js;TensorFlow\n",
       "21                                         Django;Node.js\n",
       "22                                              .NET Core\n",
       "24                                                Cordova\n",
       "26                                                  React\n",
       "27                Angular;.NET Core;Node.js;React;Xamarin\n",
       "29                               Angular;React;TensorFlow\n",
       "30                                       React;TensorFlow\n",
       "31                               Node.js;React;TensorFlow\n",
       "32                                  Angular;Node.js;React\n",
       "33                                  Angular;Node.js;React\n",
       "34                        Django;Node.js;React;TensorFlow\n",
       "36                                          Node.js;React\n",
       "37                Angular;.NET Core;Node.js;React;Xamarin\n",
       "40                               TensorFlow;Torch/PyTorch\n",
       "41                      Angular;.NET Core;Node.js;Xamarin\n",
       "43                                   .NET Core;TensorFlow\n",
       "44                                         Angular;Django\n",
       "45                   Angular;Django;Node.js;React;Cordova\n",
       "46                                           Hadoop;Spark\n",
       "51                                .NET Core;React;Xamarin\n",
       "                              ...                        \n",
       "8227                            Angular;.NET Core;Node.js\n",
       "8228    Angular;.NET Core;Hadoop;React;Spark;Cordova;T...\n",
       "8229                                      Angular;Xamarin\n",
       "8231                                         Django;React\n",
       "8232                                           TensorFlow\n",
       "8235       Angular;Node.js;React;TensorFlow;Torch/PyTorch\n",
       "8236                Hadoop;Spark;TensorFlow;Torch/PyTorch\n",
       "8238                                         Spark;Spring\n",
       "8239                                            .NET Core\n",
       "8240             Angular;Django;Node.js;Spring;TensorFlow\n",
       "8242                                                React\n",
       "8243                                               Spring\n",
       "8249     Angular;Node.js;Cordova;TensorFlow;Torch/PyTorch\n",
       "8250                                        Django;Spring\n",
       "8251                                         React;Spring\n",
       "8252    Angular;.NET Core;Django;Node.js;React;TensorFlow\n",
       "8255    Angular;.NET Core;Node.js;React;Cordova;Spring...\n",
       "8256                              .NET Core;Node.js;React\n",
       "8257                                            .NET Core\n",
       "8258                                        Node.js;React\n",
       "8259                                               Spring\n",
       "8260                             TensorFlow;Torch/PyTorch\n",
       "8261                                              Node.js\n",
       "8262                                                React\n",
       "8263                              Angular;Node.js;Xamarin\n",
       "8264                             Node.js;React;TensorFlow\n",
       "8265                                        Node.js;React\n",
       "8267                   .NET Core;Node.js;React;TensorFlow\n",
       "8268                       Angular;Django;Node.js;Xamarin\n",
       "8270                                              Angular\n",
       "Name: FrameworkDesireNextYear, Length: 5000, dtype: object"
      ]
     },
     "execution_count": 5,
     "metadata": {},
     "output_type": "execute_result"
    }
   ],
   "source": [
    "new_data['FrameworkDesireNextYear']"
   ]
  },
  {
   "cell_type": "code",
   "execution_count": 7,
   "metadata": {},
   "outputs": [],
   "source": [
    "Django = 0\n",
    "Spring = 0\n",
    "React = 0\n",
    "Angular = 0\n",
    "Node = 0\n",
    "Dotnet = 0\n",
    "Xamarin = 0\n",
    "TensorFlow = 0\n",
    "Spark = 0\n",
    "Hadoop = 0\n",
    "Cordova = 0\n",
    "\n",
    "index = 0\n",
    "\n",
    "for lang in new_data['FrameworkWorkedWith']:\n",
    "    if(not type(lang)==float):\n",
    "        if 'Django' in lang:\n",
    "            Django+=1;\n",
    "        if 'Spring' in lang:\n",
    "            Spring+=1;\n",
    "        if 'Angular' in lang:\n",
    "            Angular+=1;\n",
    "        if 'Node.js' in lang:\n",
    "            Node+=1;\n",
    "        if '.NET Core' in lang:\n",
    "            Dotnet+=1;\n",
    "        if 'Xamarin' in lang:\n",
    "            Xamarin+=1;\n",
    "        if 'TensorFlow' in lang:\n",
    "            TensorFlow+=1;\n",
    "        if 'Spark' in lang:\n",
    "            Spark+=1;\n",
    "        if 'React' in lang:\n",
    "            React+=1;\n",
    "        if 'Hadoop' in lang:\n",
    "            Hadoop+=1;\n",
    "        if 'Cordova' in lang:\n",
    "            Cordova+=1;\n",
    "        \n"
   ]
  },
  {
   "cell_type": "code",
   "execution_count": 8,
   "metadata": {
    "collapsed": true
   },
   "outputs": [],
   "source": [
    "frameworks = ['Django','Spring','Angular','Node.js','.NET Core','Xamarin','TensorFlow','Spark','React','Hadoop','Cordova' ]\n",
    "users = [Django,Spring,Angular,Node,Dotnet,Xamarin,TensorFlow,Spark,React,Hadoop,Cordova]"
   ]
  },
  {
   "cell_type": "code",
   "execution_count": 13,
   "metadata": {},
   "outputs": [
    {
     "data": {
      "image/png": "[encoded data removed]",
      "text/plain": [
       "<matplotlib.figure.Figure at 0x234b0e7ccf8>"
      ]
     },
     "metadata": {},
     "output_type": "display_data"
    }
   ],
   "source": [
    "plt.figure(figsize=(16,8))\n",
    "\n",
    "plt.bar(frameworks,users,align = 'center')\n",
    "plt.title(\"Framework desired to learn next\")\n",
    "plt.xlabel(\"frameworks\")\n",
    "plt.ylabel(\"No of developers\")\n",
    "\n",
    "plt.show()\n"
   ]
  },
  {
   "cell_type": "code",
   "execution_count": null,
   "metadata": {
    "collapsed": true
   },
   "outputs": [],
   "source": []
  }
 ],
 "metadata": {
  "kernelspec": {
   "display_name": "Python 3",
   "language": "python",
   "name": "python3"
  },
  "language_info": {
   "codemirror_mode": {
    "name": "ipython",
    "version": 3
   },
   "file_extension": ".py",
   "mimetype": "text/x-python",
   "name": "python",
   "nbconvert_exporter": "python",
   "pygments_lexer": "ipython3",
   "version": "3.6.3"
  }
 },
 "nbformat": 4,
 "nbformat_minor": 2
}
