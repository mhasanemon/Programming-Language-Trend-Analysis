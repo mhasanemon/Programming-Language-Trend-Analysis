{
 "cells": [
  {
   "cell_type": "code",
   "execution_count": 1,
   "metadata": {
    "collapsed": true
   },
   "outputs": [],
   "source": [
    "import numpy as np\n",
    "import pandas as pd\n",
    "import matplotlib.pyplot as plt\n",
    "\n",
    "%matplotlib inline"
   ]
  },
  {
   "cell_type": "code",
   "execution_count": 2,
   "metadata": {},
   "outputs": [
    {
     "name": "stderr",
     "output_type": "stream",
     "text": [
      "C:\\Users\\Emon\\Anaconda3\\lib\\site-packages\\IPython\\core\\interactiveshell.py:2698: DtypeWarning: Columns (9,13,14,15,16,17,18,19,20,21,23,24,25,26,27,28,29,30,31,32,33,34,35,36,37,38,39,40,41,42,43,44,45,46,47,48,49,50,51,52,53,54,55,56,57,58,59,60,61,62,63,64,65,66,67,68,69,70,71,72,73,74) have mixed types. Specify dtype option on import or set low_memory=False.\n",
      "  interactivity=interactivity, compiler=compiler, result=result)\n"
     ]
    }
   ],
   "source": [
    "dataFrame = pd.read_csv('new.csv')"
   ]
  },
  {
   "cell_type": "code",
   "execution_count": 4,
   "metadata": {
    "collapsed": true
   },
   "outputs": [],
   "source": [
    "new_data = dataFrame.dropna(subset=['FrameworkWorkedWith']).head(5000)"
   ]
  },
  {
   "cell_type": "code",
   "execution_count": 6,
   "metadata": {},
   "outputs": [
    {
     "data": {
      "text/html": [
       "<div>\n",
       "<style>\n",
       "    .dataframe thead tr:only-child th {\n",
       "        text-align: right;\n",
       "    }\n",
       "\n",
       "    .dataframe thead th {\n",
       "        text-align: left;\n",
       "    }\n",
       "\n",
       "    .dataframe tbody tr th {\n",
       "        vertical-align: top;\n",
       "    }\n",
       "</style>\n",
       "<table border=\"1\" class=\"dataframe\">\n",
       "  <thead>\n",
       "    <tr style=\"text-align: right;\">\n",
       "      <th></th>\n",
       "      <th>FrameworkWorkedWith</th>\n",
       "    </tr>\n",
       "  </thead>\n",
       "  <tbody>\n",
       "    <tr>\n",
       "      <th>0</th>\n",
       "      <td>Django;React</td>\n",
       "    </tr>\n",
       "    <tr>\n",
       "      <th>1</th>\n",
       "      <td>Django</td>\n",
       "    </tr>\n",
       "    <tr>\n",
       "      <th>5</th>\n",
       "      <td>Angular;Node.js</td>\n",
       "    </tr>\n",
       "    <tr>\n",
       "      <th>6</th>\n",
       "      <td>Node.js;React</td>\n",
       "    </tr>\n",
       "    <tr>\n",
       "      <th>7</th>\n",
       "      <td>Angular;Node.js</td>\n",
       "    </tr>\n",
       "    <tr>\n",
       "      <th>8</th>\n",
       "      <td>Hadoop;Node.js;React;Spark</td>\n",
       "    </tr>\n",
       "    <tr>\n",
       "      <th>13</th>\n",
       "      <td>Spring</td>\n",
       "    </tr>\n",
       "    <tr>\n",
       "      <th>17</th>\n",
       "      <td>.NET Core</td>\n",
       "    </tr>\n",
       "    <tr>\n",
       "      <th>18</th>\n",
       "      <td>Angular</td>\n",
       "    </tr>\n",
       "    <tr>\n",
       "      <th>20</th>\n",
       "      <td>Angular;Node.js</td>\n",
       "    </tr>\n",
       "    <tr>\n",
       "      <th>21</th>\n",
       "      <td>Django</td>\n",
       "    </tr>\n",
       "    <tr>\n",
       "      <th>22</th>\n",
       "      <td>.NET Core</td>\n",
       "    </tr>\n",
       "    <tr>\n",
       "      <th>24</th>\n",
       "      <td>Angular;Cordova</td>\n",
       "    </tr>\n",
       "    <tr>\n",
       "      <th>25</th>\n",
       "      <td>Angular;Node.js</td>\n",
       "    </tr>\n",
       "    <tr>\n",
       "      <th>26</th>\n",
       "      <td>Node.js;React</td>\n",
       "    </tr>\n",
       "    <tr>\n",
       "      <th>29</th>\n",
       "      <td>Angular;React</td>\n",
       "    </tr>\n",
       "    <tr>\n",
       "      <th>30</th>\n",
       "      <td>Django</td>\n",
       "    </tr>\n",
       "    <tr>\n",
       "      <th>31</th>\n",
       "      <td>Angular;Node.js;React;Spring</td>\n",
       "    </tr>\n",
       "    <tr>\n",
       "      <th>33</th>\n",
       "      <td>Angular;Node.js</td>\n",
       "    </tr>\n",
       "    <tr>\n",
       "      <th>34</th>\n",
       "      <td>Angular;Node.js</td>\n",
       "    </tr>\n",
       "    <tr>\n",
       "      <th>35</th>\n",
       "      <td>React</td>\n",
       "    </tr>\n",
       "    <tr>\n",
       "      <th>36</th>\n",
       "      <td>.NET Core;Node.js;React</td>\n",
       "    </tr>\n",
       "    <tr>\n",
       "      <th>37</th>\n",
       "      <td>Angular;.NET Core;Xamarin</td>\n",
       "    </tr>\n",
       "    <tr>\n",
       "      <th>39</th>\n",
       "      <td>.NET Core</td>\n",
       "    </tr>\n",
       "    <tr>\n",
       "      <th>40</th>\n",
       "      <td>TensorFlow</td>\n",
       "    </tr>\n",
       "    <tr>\n",
       "      <th>41</th>\n",
       "      <td>Angular;.NET Core;Node.js</td>\n",
       "    </tr>\n",
       "    <tr>\n",
       "      <th>43</th>\n",
       "      <td>.NET Core;TensorFlow</td>\n",
       "    </tr>\n",
       "    <tr>\n",
       "      <th>45</th>\n",
       "      <td>Django</td>\n",
       "    </tr>\n",
       "    <tr>\n",
       "      <th>46</th>\n",
       "      <td>Node.js;Spring</td>\n",
       "    </tr>\n",
       "    <tr>\n",
       "      <th>51</th>\n",
       "      <td>Angular;Node.js;Cordova</td>\n",
       "    </tr>\n",
       "    <tr>\n",
       "      <th>...</th>\n",
       "      <td>...</td>\n",
       "    </tr>\n",
       "    <tr>\n",
       "      <th>8715</th>\n",
       "      <td>Angular;.NET Core;Node.js;Xamarin</td>\n",
       "    </tr>\n",
       "    <tr>\n",
       "      <th>8717</th>\n",
       "      <td>Angular;Node.js</td>\n",
       "    </tr>\n",
       "    <tr>\n",
       "      <th>8718</th>\n",
       "      <td>Angular;Node.js;React;Cordova;Spring</td>\n",
       "    </tr>\n",
       "    <tr>\n",
       "      <th>8719</th>\n",
       "      <td>Angular;.NET Core</td>\n",
       "    </tr>\n",
       "    <tr>\n",
       "      <th>8723</th>\n",
       "      <td>Spark;TensorFlow</td>\n",
       "    </tr>\n",
       "    <tr>\n",
       "      <th>8724</th>\n",
       "      <td>Node.js;Spring</td>\n",
       "    </tr>\n",
       "    <tr>\n",
       "      <th>8725</th>\n",
       "      <td>Angular;Node.js</td>\n",
       "    </tr>\n",
       "    <tr>\n",
       "      <th>8726</th>\n",
       "      <td>.NET Core</td>\n",
       "    </tr>\n",
       "    <tr>\n",
       "      <th>8727</th>\n",
       "      <td>Node.js;Cordova;Xamarin</td>\n",
       "    </tr>\n",
       "    <tr>\n",
       "      <th>8729</th>\n",
       "      <td>Angular;Node.js</td>\n",
       "    </tr>\n",
       "    <tr>\n",
       "      <th>8731</th>\n",
       "      <td>Angular;Node.js</td>\n",
       "    </tr>\n",
       "    <tr>\n",
       "      <th>8733</th>\n",
       "      <td>Node.js</td>\n",
       "    </tr>\n",
       "    <tr>\n",
       "      <th>8734</th>\n",
       "      <td>Angular;.NET Core;Node.js;React</td>\n",
       "    </tr>\n",
       "    <tr>\n",
       "      <th>8735</th>\n",
       "      <td>Angular</td>\n",
       "    </tr>\n",
       "    <tr>\n",
       "      <th>8736</th>\n",
       "      <td>.NET Core</td>\n",
       "    </tr>\n",
       "    <tr>\n",
       "      <th>8738</th>\n",
       "      <td>Django</td>\n",
       "    </tr>\n",
       "    <tr>\n",
       "      <th>8740</th>\n",
       "      <td>.NET Core;React</td>\n",
       "    </tr>\n",
       "    <tr>\n",
       "      <th>8742</th>\n",
       "      <td>.NET Core;TensorFlow</td>\n",
       "    </tr>\n",
       "    <tr>\n",
       "      <th>8744</th>\n",
       "      <td>Angular;Django;Node.js</td>\n",
       "    </tr>\n",
       "    <tr>\n",
       "      <th>8749</th>\n",
       "      <td>Angular;.NET Core;Node.js;Spring</td>\n",
       "    </tr>\n",
       "    <tr>\n",
       "      <th>8751</th>\n",
       "      <td>Node.js</td>\n",
       "    </tr>\n",
       "    <tr>\n",
       "      <th>8752</th>\n",
       "      <td>Angular;Xamarin</td>\n",
       "    </tr>\n",
       "    <tr>\n",
       "      <th>8755</th>\n",
       "      <td>Angular;Node.js;Spring</td>\n",
       "    </tr>\n",
       "    <tr>\n",
       "      <th>8756</th>\n",
       "      <td>Spring</td>\n",
       "    </tr>\n",
       "    <tr>\n",
       "      <th>8757</th>\n",
       "      <td>Node.js</td>\n",
       "    </tr>\n",
       "    <tr>\n",
       "      <th>8760</th>\n",
       "      <td>Angular;Node.js;Cordova;Spring</td>\n",
       "    </tr>\n",
       "    <tr>\n",
       "      <th>8763</th>\n",
       "      <td>Node.js</td>\n",
       "    </tr>\n",
       "    <tr>\n",
       "      <th>8764</th>\n",
       "      <td>Spring</td>\n",
       "    </tr>\n",
       "    <tr>\n",
       "      <th>8766</th>\n",
       "      <td>Node.js;React</td>\n",
       "    </tr>\n",
       "    <tr>\n",
       "      <th>8767</th>\n",
       "      <td>.NET Core;Cordova;Xamarin</td>\n",
       "    </tr>\n",
       "  </tbody>\n",
       "</table>\n",
       "<p>5000 rows × 1 columns</p>\n",
       "</div>"
      ],
      "text/plain": [
       "                       FrameworkWorkedWith\n",
       "0                             Django;React\n",
       "1                                   Django\n",
       "5                          Angular;Node.js\n",
       "6                            Node.js;React\n",
       "7                          Angular;Node.js\n",
       "8               Hadoop;Node.js;React;Spark\n",
       "13                                  Spring\n",
       "17                               .NET Core\n",
       "18                                 Angular\n",
       "20                         Angular;Node.js\n",
       "21                                  Django\n",
       "22                               .NET Core\n",
       "24                         Angular;Cordova\n",
       "25                         Angular;Node.js\n",
       "26                           Node.js;React\n",
       "29                           Angular;React\n",
       "30                                  Django\n",
       "31            Angular;Node.js;React;Spring\n",
       "33                         Angular;Node.js\n",
       "34                         Angular;Node.js\n",
       "35                                   React\n",
       "36                 .NET Core;Node.js;React\n",
       "37               Angular;.NET Core;Xamarin\n",
       "39                               .NET Core\n",
       "40                              TensorFlow\n",
       "41               Angular;.NET Core;Node.js\n",
       "43                    .NET Core;TensorFlow\n",
       "45                                  Django\n",
       "46                          Node.js;Spring\n",
       "51                 Angular;Node.js;Cordova\n",
       "...                                    ...\n",
       "8715     Angular;.NET Core;Node.js;Xamarin\n",
       "8717                       Angular;Node.js\n",
       "8718  Angular;Node.js;React;Cordova;Spring\n",
       "8719                     Angular;.NET Core\n",
       "8723                      Spark;TensorFlow\n",
       "8724                        Node.js;Spring\n",
       "8725                       Angular;Node.js\n",
       "8726                             .NET Core\n",
       "8727               Node.js;Cordova;Xamarin\n",
       "8729                       Angular;Node.js\n",
       "8731                       Angular;Node.js\n",
       "8733                               Node.js\n",
       "8734       Angular;.NET Core;Node.js;React\n",
       "8735                               Angular\n",
       "8736                             .NET Core\n",
       "8738                                Django\n",
       "8740                       .NET Core;React\n",
       "8742                  .NET Core;TensorFlow\n",
       "8744                Angular;Django;Node.js\n",
       "8749      Angular;.NET Core;Node.js;Spring\n",
       "8751                               Node.js\n",
       "8752                       Angular;Xamarin\n",
       "8755                Angular;Node.js;Spring\n",
       "8756                                Spring\n",
       "8757                               Node.js\n",
       "8760        Angular;Node.js;Cordova;Spring\n",
       "8763                               Node.js\n",
       "8764                                Spring\n",
       "8766                         Node.js;React\n",
       "8767             .NET Core;Cordova;Xamarin\n",
       "\n",
       "[5000 rows x 1 columns]"
      ]
     },
     "execution_count": 6,
     "metadata": {},
     "output_type": "execute_result"
    }
   ],
   "source": [
    "new_data[['FrameworkWorkedWith']]"
   ]
  },
  {
   "cell_type": "code",
   "execution_count": 39,
   "metadata": {},
   "outputs": [],
   "source": [
    "Django = 0\n",
    "Spring = 0\n",
    "React = 0\n",
    "Angular = 0\n",
    "Node = 0\n",
    "Dotnet = 0\n",
    "Xamarin = 0\n",
    "TensorFlow = 0\n",
    "Spark = 0\n",
    "\n",
    "index = 0\n",
    "\n",
    "for lang in new_data['FrameworkWorkedWith']:\n",
    "    if(not type(lang)==float):\n",
    "        if 'Django' in lang:\n",
    "            Django+=1;\n",
    "        if 'Spring' in lang:\n",
    "            Spring+=1;\n",
    "        if 'Angular' in lang:\n",
    "            Angular+=1;\n",
    "        if 'Node.js' in lang:\n",
    "            Node+=1;\n",
    "        if '.NET Core' in lang:\n",
    "            Dotnet+=1;\n",
    "        if 'Xamarin' in lang:\n",
    "            Xamarin+=1;\n",
    "        if 'TensorFlow' in lang:\n",
    "            TensorFlow+=1;\n",
    "        if 'Spark' in lang:\n",
    "            Spark+=1;\n",
    "        if 'React' in lang:\n",
    "            React+=1;\n",
    "        \n"
   ]
  },
  {
   "cell_type": "code",
   "execution_count": 40,
   "metadata": {},
   "outputs": [],
   "source": [
    "frameworks = ['Django','Spring','Angular','Node.js','.NET Core','Xamarin','TensorFlow','Spark','React' ]\n",
    "users = [Django,Spring,Angular,Node,Dotnet,Xamarin,TensorFlow,Spark,React]"
   ]
  },
  {
   "cell_type": "code",
   "execution_count": 41,
   "metadata": {},
   "outputs": [
    {
     "data": {
      "image/png": "[encoded data removed]",
      "text/plain": [
       "<matplotlib.figure.Figure at 0x1f3879ca588>"
      ]
     },
     "metadata": {},
     "output_type": "display_data"
    }
   ],
   "source": [
    "plt.figure(figsize=(16,8))\n",
    "\n",
    "plt.bar(frameworks,users,align = 'center')\n",
    "plt.title(\"framework used by developers\")\n",
    "plt.xlabel(\"frameworks\")\n",
    "plt.ylabel(\"No of developers\")\n",
    "plt.show()\n"
   ]
  },
  {
   "cell_type": "markdown",
   "metadata": {},
   "source": [
    "# Salary"
   ]
  },
  {
   "cell_type": "code",
   "execution_count": 42,
   "metadata": {
    "collapsed": true
   },
   "outputs": [],
   "source": [
    "new_data = new_data.dropna(subset=['ConvertedSalary'])"
   ]
  },
  {
   "cell_type": "code",
   "execution_count": 50,
   "metadata": {},
   "outputs": [
    {
     "name": "stdout",
     "output_type": "stream",
     "text": [
      "56708.788961\n"
     ]
    }
   ],
   "source": [
    "Sum1=0\n",
    "index = 0\n",
    "for lang in new_data['FrameworkWorkedWith']:\n",
    "    if(not type(lang)==float):\n",
    "        if 'Django' in lang:\n",
    "            #print(float(new_data.iloc[index]['Salary']))\n",
    "            comma_remove = new_data.iloc[index]['ConvertedSalary']\n",
    "            Sum1+=comma_remove\n",
    "        index+=1\n",
    "Django_avg = Sum1/Django\n",
    "print(Django_avg)"
   ]
  },
  {
   "cell_type": "code",
   "execution_count": 55,
   "metadata": {},
   "outputs": [
    {
     "name": "stdout",
     "output_type": "stream",
     "text": [
      "64306.4989224\n"
     ]
    }
   ],
   "source": [
    "Sum2=0\n",
    "index = 0\n",
    "for lang in new_data['FrameworkWorkedWith']:\n",
    "    if(not type(lang)==float):\n",
    "        if 'Spring' in lang:\n",
    "            #print(float(new_data.iloc[index]['Salary']))\n",
    "            comma_remove = new_data.iloc[index]['ConvertedSalary']\n",
    "            Sum2+=comma_remove\n",
    "        index+=1\n",
    "Spring_avg = Sum2/Spring\n",
    "print(Spring_avg)"
   ]
  },
  {
   "cell_type": "code",
   "execution_count": 54,
   "metadata": {},
   "outputs": [
    {
     "name": "stdout",
     "output_type": "stream",
     "text": [
      "63085.2548283\n"
     ]
    }
   ],
   "source": [
    "Sum3=0\n",
    "index = 0\n",
    "for lang in new_data['FrameworkWorkedWith']:\n",
    "    if(not type(lang)==float):\n",
    "        if 'Angular' in lang:\n",
    "            #print(float(new_data.iloc[index]['Salary']))\n",
    "            comma_remove = new_data.iloc[index]['ConvertedSalary']\n",
    "            Sum3+=comma_remove\n",
    "        index+=1\n",
    "Angular_avg = Sum3/Angular\n",
    "print(Angular_avg)"
   ]
  },
  {
   "cell_type": "code",
   "execution_count": 56,
   "metadata": {},
   "outputs": [
    {
     "name": "stdout",
     "output_type": "stream",
     "text": [
      "67460.043659\n"
     ]
    }
   ],
   "source": [
    "Sum4=0\n",
    "index = 0\n",
    "for lang in new_data['FrameworkWorkedWith']:\n",
    "    if(not type(lang)==float):\n",
    "        if 'Node.js' in lang:\n",
    "            #print(float(new_data.iloc[index]['Salary']))\n",
    "            comma_remove = new_data.iloc[index]['ConvertedSalary']\n",
    "            Sum4+=comma_remove\n",
    "        index+=1\n",
    "Node_avg = Sum4/Node\n",
    "print(Node_avg)"
   ]
  },
  {
   "cell_type": "code",
   "execution_count": 57,
   "metadata": {},
   "outputs": [
    {
     "name": "stdout",
     "output_type": "stream",
     "text": [
      "65439.4351524\n"
     ]
    }
   ],
   "source": [
    "Sum5=0\n",
    "index = 0\n",
    "for lang in new_data['FrameworkWorkedWith']:\n",
    "    if(not type(lang)==float):\n",
    "        if '.NET Core' in lang:\n",
    "            #print(float(new_data.iloc[index]['Salary']))\n",
    "            comma_remove = new_data.iloc[index]['ConvertedSalary']\n",
    "            Sum5+=comma_remove\n",
    "        index+=1\n",
    "Dotnet_avg = Sum5/Dotnet\n",
    "print(Dotnet_avg)"
   ]
  },
  {
   "cell_type": "code",
   "execution_count": 58,
   "metadata": {},
   "outputs": [
    {
     "name": "stdout",
     "output_type": "stream",
     "text": [
      "59496.6402439\n"
     ]
    }
   ],
   "source": [
    "Sum6=0\n",
    "index = 0\n",
    "for lang in new_data['FrameworkWorkedWith']:\n",
    "    if(not type(lang)==float):\n",
    "        if 'Xamarin' in lang:\n",
    "            #print(float(new_data.iloc[index]['Salary']))\n",
    "            comma_remove = new_data.iloc[index]['ConvertedSalary']\n",
    "            Sum6+=comma_remove\n",
    "        index+=1\n",
    "Xamarin_avg = Sum6/Xamarin\n",
    "print(Xamarin_avg)"
   ]
  },
  {
   "cell_type": "code",
   "execution_count": 59,
   "metadata": {},
   "outputs": [
    {
     "name": "stdout",
     "output_type": "stream",
     "text": [
      "73733.9481707\n"
     ]
    }
   ],
   "source": [
    "Sum7=0\n",
    "index = 0\n",
    "for lang in new_data['FrameworkWorkedWith']:\n",
    "    if(not type(lang)==float):\n",
    "        if 'TensorFlow' in lang:\n",
    "            #print(float(new_data.iloc[index]['Salary']))\n",
    "            comma_remove = new_data.iloc[index]['ConvertedSalary']\n",
    "            Sum7+=comma_remove\n",
    "        index+=1\n",
    "TensorFlow_avg = Sum7/Xamarin\n",
    "print(TensorFlow_avg)"
   ]
  },
  {
   "cell_type": "code",
   "execution_count": 60,
   "metadata": {},
   "outputs": [
    {
     "name": "stdout",
     "output_type": "stream",
     "text": [
      "81560.669145\n"
     ]
    }
   ],
   "source": [
    "Sum8=0\n",
    "index = 0\n",
    "for lang in new_data['FrameworkWorkedWith']:\n",
    "    if(not type(lang)==float):\n",
    "        if 'Spark' in lang:\n",
    "            #print(float(new_data.iloc[index]['Salary']))\n",
    "            comma_remove = new_data.iloc[index]['ConvertedSalary']\n",
    "            Sum8+=comma_remove\n",
    "        index+=1\n",
    "Spark_avg = Sum8/Spark\n",
    "print(Spark_avg)"
   ]
  },
  {
   "cell_type": "code",
   "execution_count": 61,
   "metadata": {},
   "outputs": [
    {
     "name": "stdout",
     "output_type": "stream",
     "text": [
      "75860.9041605\n"
     ]
    }
   ],
   "source": [
    "Sum9=0\n",
    "index = 0\n",
    "for lang in new_data['FrameworkWorkedWith']:\n",
    "    if(not type(lang)==float):\n",
    "        if 'React' in lang:\n",
    "            #print(float(new_data.iloc[index]['Salary']))\n",
    "            comma_remove = new_data.iloc[index]['ConvertedSalary']\n",
    "            Sum9+=comma_remove\n",
    "        index+=1\n",
    "React_avg = Sum9/React\n",
    "print(React_avg)"
   ]
  },
  {
   "cell_type": "code",
   "execution_count": 62,
   "metadata": {
    "collapsed": true
   },
   "outputs": [],
   "source": [
    "frameworks = ['Django','Spring','Angular','Node.js','.NET Core','Xamarin','TensorFlow','Spark','React' ]\n",
    "avg_salary = [Django_avg,Spring_avg,Angular_avg,Node_avg,Dotnet_avg,Xamarin_avg,TensorFlow_avg,Spark_avg,React_avg]"
   ]
  },
  {
   "cell_type": "code",
   "execution_count": 65,
   "metadata": {},
   "outputs": [
    {
     "data": {
      "image/png": "[encoded data removed]",
      "text/plain": [
       "<matplotlib.figure.Figure at 0x1f3887eb780>"
      ]
     },
     "metadata": {},
     "output_type": "display_data"
    }
   ],
   "source": [
    "plt.figure(figsize=(16,8))\n",
    "\n",
    "plt.bar(frameworks,avg_salary,align = 'center')\n",
    "plt.title(\"Average Salary of developers using specific framework\")\n",
    "plt.xlabel(\"frameworks\")\n",
    "plt.ylabel(\"Average Salary (USD)\")\n",
    "plt.show()"
   ]
  },
  {
   "cell_type": "code",
   "execution_count": null,
   "metadata": {
    "collapsed": true
   },
   "outputs": [],
   "source": []
  }
 ],
 "metadata": {
  "kernelspec": {
   "display_name": "Python 3",
   "language": "python",
   "name": "python3"
  },
  "language_info": {
   "codemirror_mode": {
    "name": "ipython",
    "version": 3
   },
   "file_extension": ".py",
   "mimetype": "text/x-python",
   "name": "python",
   "nbconvert_exporter": "python",
   "pygments_lexer": "ipython3",
   "version": "3.6.3"
  }
 },
 "nbformat": 4,
 "nbformat_minor": 2
}
